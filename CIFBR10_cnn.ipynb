{
 "cells": [
  {
   "cell_type": "raw",
   "metadata": {
    "id": "nQl-nIDDCA53"
   },
   "source": [
    "# Case Study - Image Classification using Deep CNN in Keras."
   ]
  },
  {
   "cell_type": "code",
   "execution_count": null,
   "metadata": {},
   "outputs": [],
   "source": [
    "!pip install opencv-python\n",
    "#OpenCV is a Python library that allows you to perform image processing and computer vision tasks.\n",
    "#It provides a wide range of features, including object detection, face recognition, and tracking. \n"
   ]
  },
  {
   "cell_type": "code",
   "execution_count": 1,
   "metadata": {
    "executionInfo": {
     "elapsed": 3528,
     "status": "ok",
     "timestamp": 1697160986394,
     "user": {
      "displayName": "Abhinav Harsh",
      "userId": "08825161285052345463"
     },
     "user_tz": -330
    },
    "id": "r6bjW33oQvDs"
   },
   "outputs": [
    {
     "name": "stdout",
     "output_type": "stream",
     "text": [
      "WARNING:tensorflow:From C:\\Users\\SIMRAN\\anaconda3\\lib\\site-packages\\keras\\src\\losses.py:2976: The name tf.losses.sparse_softmax_cross_entropy is deprecated. Please use tf.compat.v1.losses.sparse_softmax_cross_entropy instead.\n",
      "\n"
     ]
    }
   ],
   "source": [
    "# Import necessary modules.\n",
    "\n",
    "import cv2\n",
    "import numpy as np\n",
    "import matplotlib.pyplot as plt\n",
    "\n",
    "\n",
    "from tensorflow.keras import datasets, models, layers, optimizers\n",
    "from tensorflow.keras.preprocessing.image import ImageDataGenerator\n",
    "from tensorflow.keras.callbacks import ModelCheckpoint, EarlyStopping\n"
   ]
  },
  {
   "cell_type": "code",
   "execution_count": 2,
   "metadata": {
    "executionInfo": {
     "elapsed": 16,
     "status": "ok",
     "timestamp": 1697160986394,
     "user": {
      "displayName": "Abhinav Harsh",
      "userId": "08825161285052345463"
     },
     "user_tz": -330
    },
    "id": "e21_TQyARLdf"
   },
   "outputs": [],
   "source": [
    "# Set the batch size, number of epochs.\n",
    "batch_size = 32\n",
    "num_classes = 10\n",
    "epochs = 40\n",
    "num_predictions = 20\n",
    "#this can be set at the later stage after trying different iterartions, this ones are the best fit value for my model"
   ]
  },
  {
   "cell_type": "code",
   "execution_count": 3,
   "metadata": {},
   "outputs": [],
   "source": [
    "#lets import data sets from kears\n",
    "from tensorflow.keras.datasets import cifar10"
   ]
  },
  {
   "cell_type": "code",
   "execution_count": 4,
   "metadata": {},
   "outputs": [],
   "source": [
    "\n",
    "#if in case data set doesnt run you can use this:\n",
    "import requests\n",
    "import ssl\n",
    "\n",
    "# Bypass SSL verification\n",
    "ssl._create_default_https_context = ssl._create_unverified_context\n",
    "\n",
    "# Download CIFAR-10 dataset\n",
    "url = \"https://www.cs.toronto.edu/~kriz/cifar-10-python.tar.gz\"\n",
    "response = requests.get(url)\n"
   ]
  },
  {
   "cell_type": "code",
   "execution_count": 5,
   "metadata": {
    "executionInfo": {
     "elapsed": 704,
     "status": "ok",
     "timestamp": 1697162534518,
     "user": {
      "displayName": "Abhinav Harsh",
      "userId": "08825161285052345463"
     },
     "user_tz": -330
    },
    "id": "Ag1mlSAiRSsR"
   },
   "outputs": [],
   "source": [
    "# The data, split between train and test sets:\n",
    "(x_train, y_train), (x_test, y_test) = cifar10.load_data()"
   ]
  },
  {
   "cell_type": "code",
   "execution_count": 6,
   "metadata": {
    "colab": {
     "base_uri": "https://localhost:8080/"
    },
    "executionInfo": {
     "elapsed": 3,
     "status": "ok",
     "timestamp": 1697162539250,
     "user": {
      "displayName": "Abhinav Harsh",
      "userId": "08825161285052345463"
     },
     "user_tz": -330
    },
    "id": "3pXTYLk2Idol",
    "outputId": "79e9fe9d-a202-47f3-b322-05516cd5448d"
   },
   "outputs": [
    {
     "name": "stdout",
     "output_type": "stream",
     "text": [
      "x_train shape: (50000, 32, 32, 3)\n",
      "50000 train samples\n",
      "10000 test samples\n"
     ]
    }
   ],
   "source": [
    "# Print the shape of dataset.\n",
    "print('x_train shape:', x_train.shape)\n",
    "print(x_train.shape[0], 'train samples')\n",
    "print(x_test.shape[0], 'test samples')"
   ]
  },
  {
   "cell_type": "code",
   "execution_count": 7,
   "metadata": {
    "colab": {
     "base_uri": "https://localhost:8080/"
    },
    "executionInfo": {
     "elapsed": 426,
     "status": "ok",
     "timestamp": 1697162878116,
     "user": {
      "displayName": "Abhinav Harsh",
      "userId": "08825161285052345463"
     },
     "user_tz": -330
    },
    "id": "5zch9DaH2V2z",
    "outputId": "24d6de4b-62c7-465d-fe6a-12cb98ee4610"
   },
   "outputs": [
    {
     "name": "stdout",
     "output_type": "stream",
     "text": [
      "y_train shape: (50000, 1)\n",
      "50000 train samples\n",
      "10000 test samples\n"
     ]
    }
   ],
   "source": [
    "# Print the shape of dataset.\n",
    "print('y_train shape:', y_train.shape)\n",
    "print(y_train.shape[0], 'train samples')\n",
    "print(y_test.shape[0], 'test samples')"
   ]
  },
  {
   "cell_type": "markdown",
   "metadata": {
    "id": "b4EU-Du3CeCr"
   },
   "source": [
    "- The training set contains 50000 images.\n",
    "- The size of each image is 32x32 pixels.\n",
    "- Each image has 3 color channels."
   ]
  },
  {
   "cell_type": "code",
   "execution_count": 8,
   "metadata": {
    "colab": {
     "base_uri": "https://localhost:8080/"
    },
    "executionInfo": {
     "elapsed": 444,
     "status": "ok",
     "timestamp": 1697162904035,
     "user": {
      "displayName": "Abhinav Harsh",
      "userId": "08825161285052345463"
     },
     "user_tz": -330
    },
    "id": "D99L93w7w3UK",
    "outputId": "2415a519-1c99-46a9-fa1e-87fd753d659c"
   },
   "outputs": [
    {
     "data": {
      "text/plain": [
       "(32, 32, 3)"
      ]
     },
     "execution_count": 8,
     "metadata": {},
     "output_type": "execute_result"
    }
   ],
   "source": [
    "x_train[0, :, :, :].shape  #checking shape of the x_train by index "
   ]
  },
  {
   "cell_type": "markdown",
   "metadata": {
    "id": "mnXS2u8UNgv_"
   },
   "source": [
    "## Highlights:\n",
    "- How to select the 10th image?\n",
    "- How to get the red pixels only?\n",
    "- What is the shape of resulting array?"
   ]
  },
  {
   "cell_type": "code",
   "execution_count": 9,
   "metadata": {
    "colab": {
     "base_uri": "https://localhost:8080/"
    },
    "executionInfo": {
     "elapsed": 410,
     "status": "ok",
     "timestamp": 1697162916278,
     "user": {
      "displayName": "Abhinav Harsh",
      "userId": "08825161285052345463"
     },
     "user_tz": -330
    },
    "id": "j-wVAMfGnFij",
    "outputId": "a93c915a-fd29-40e2-9840-433e3bad9802"
   },
   "outputs": [
    {
     "data": {
      "text/plain": [
       "array([[6],\n",
       "       [9],\n",
       "       [9],\n",
       "       ...,\n",
       "       [9],\n",
       "       [1],\n",
       "       [1]], dtype=uint8)"
      ]
     },
     "execution_count": 9,
     "metadata": {},
     "output_type": "execute_result"
    }
   ],
   "source": [
    "y_train #the output of the training sets"
   ]
  },
  {
   "cell_type": "code",
   "execution_count": 10,
   "metadata": {
    "colab": {
     "base_uri": "https://localhost:8080/"
    },
    "executionInfo": {
     "elapsed": 13,
     "status": "ok",
     "timestamp": 1697160992020,
     "user": {
      "displayName": "Abhinav Harsh",
      "userId": "08825161285052345463"
     },
     "user_tz": -330
    },
    "id": "K-5Y28Hf7-tq",
    "outputId": "bae7eff5-9ddb-4da3-cc65-8c190603da41"
   },
   "outputs": [
    {
     "data": {
      "text/plain": [
       "9"
      ]
     },
     "execution_count": 10,
     "metadata": {},
     "output_type": "execute_result"
    }
   ],
   "source": [
    "y_train[2][0] #output of the the 2nd index in the training set"
   ]
  },
  {
   "cell_type": "code",
   "execution_count": 11,
   "metadata": {
    "executionInfo": {
     "elapsed": 3,
     "status": "ok",
     "timestamp": 1697162964107,
     "user": {
      "displayName": "Abhinav Harsh",
      "userId": "08825161285052345463"
     },
     "user_tz": -330
    },
    "id": "s12yUeMB662K"
   },
   "outputs": [],
   "source": [
    "#lets label the index for better understanding\n",
    "label_dict =  {0:'airplane', 1:'automobile', 2:'bird', 3:'cat', 4:'deer', 5:'dog', 6:'frog', 7:'horse', 8:'ship', 9:'truck'}"
   ]
  },
  {
   "cell_type": "code",
   "execution_count": 12,
   "metadata": {
    "colab": {
     "base_uri": "https://localhost:8080/",
     "height": 484
    },
    "executionInfo": {
     "elapsed": 1269,
     "status": "ok",
     "timestamp": 1697163192633,
     "user": {
      "displayName": "Abhinav Harsh",
      "userId": "08825161285052345463"
     },
     "user_tz": -330
    },
    "id": "66qUQg6OxcsL",
    "outputId": "edd0e4b5-1ca5-4052-8181-52ecf9ca0de7"
   },
   "outputs": [
    {
     "name": "stdout",
     "output_type": "stream",
     "text": [
      "Label \n",
      " Label Id: 5 \n",
      " Name: dog\n"
     ]
    },
    {
     "data": {
      "image/png": "[encoded data removed]",
      "text/plain": [
       "<Figure size 640x480 with 1 Axes>"
      ]
     },
     "metadata": {},
     "output_type": "display_data"
    }
   ],
   "source": [
    "#lets check the image and the label for the 40th data from x_train and y_train\n",
    "i = 40\n",
    "image = x_train[i]\n",
    "label = y_train[i][0]\n",
    "print(f'Label \\n Label Id: {label} \\n Name: {label_dict[label]}')\n",
    "plt.imshow(image);\n",
    "#pixel is less, hence the quality of image seems bad, \n",
    "#as this code is just for learning purspose, no problem with the the training set with less pixel"
   ]
  },
  {
   "cell_type": "markdown",
   "metadata": {
    "id": "_0ghOfUzDRP3"
   },
   "source": [
    "- As the image quality is not good, the edges are not so good. But still we can visualize that there are edges."
   ]
  },
  {
   "cell_type": "code",
   "execution_count": 13,
   "metadata": {
    "colab": {
     "base_uri": "https://localhost:8080/"
    },
    "executionInfo": {
     "elapsed": 747,
     "status": "ok",
     "timestamp": 1697163498286,
     "user": {
      "displayName": "Abhinav Harsh",
      "userId": "08825161285052345463"
     },
     "user_tz": -330
    },
    "id": "rKgKTiTXTWDs",
    "outputId": "79701918-29f6-472c-85fb-a9efffacdc3c"
   },
   "outputs": [
    {
     "data": {
      "text/plain": [
       "array([[3],\n",
       "       [8],\n",
       "       [8],\n",
       "       ...,\n",
       "       [5],\n",
       "       [1],\n",
       "       [7]], dtype=uint8)"
      ]
     },
     "execution_count": 13,
     "metadata": {},
     "output_type": "execute_result"
    }
   ],
   "source": [
    "y_test"
   ]
  },
  {
   "cell_type": "markdown",
   "metadata": {
    "id": "8xlCscLsouHY"
   },
   "source": [
    "## Please Note:\n",
    "There are many tools to one-hot encode and they differ in syntax, but the keras one is probably best implemented.\n",
    "- `keras.utils.to_categorical`\n",
    "- `sklearn.preprocessing.OneHotEncoder`\n",
    "- `pandas get_dummies`"
   ]
  },
  {
   "cell_type": "code",
   "execution_count": 14,
   "metadata": {
    "colab": {
     "base_uri": "https://localhost:8080/"
    },
    "executionInfo": {
     "elapsed": 7,
     "status": "ok",
     "timestamp": 1697160992511,
     "user": {
      "displayName": "Abhinav Harsh",
      "userId": "08825161285052345463"
     },
     "user_tz": -330
    },
    "id": "0Zl7GfD_7_Vi",
    "outputId": "139f1c04-28de-4cb1-af22-990e3d725de0"
   },
   "outputs": [
    {
     "data": {
      "text/plain": [
       "(50000, 1)"
      ]
     },
     "execution_count": 14,
     "metadata": {},
     "output_type": "execute_result"
    }
   ],
   "source": [
    "y_train.shape #lets reshape it using onehot encoder, below shown are two ways, you can use the one which works best for you"
   ]
  },
  {
   "cell_type": "code",
   "execution_count": 15,
   "metadata": {
    "executionInfo": {
     "elapsed": 3,
     "status": "ok",
     "timestamp": 1697163548552,
     "user": {
      "displayName": "Abhinav Harsh",
      "userId": "08825161285052345463"
     },
     "user_tz": -330
    },
    "id": "l7kVqDH8RUNr"
   },
   "outputs": [],
   "source": [
    "# Convert labels to one hot vectors.\n",
    "\n",
    "from sklearn.preprocessing import LabelBinarizer\n",
    "enc = LabelBinarizer()\n",
    "y_train = enc.fit_transform(y_train)\n",
    "y_test = enc.fit_transform(y_test)"
   ]
  },
  {
   "cell_type": "code",
   "execution_count": 16,
   "metadata": {
    "colab": {
     "base_uri": "https://localhost:8080/"
    },
    "executionInfo": {
     "elapsed": 433,
     "status": "ok",
     "timestamp": 1697163550392,
     "user": {
      "displayName": "Abhinav Harsh",
      "userId": "08825161285052345463"
     },
     "user_tz": -330
    },
    "id": "FtlzWLBqpRw6",
    "outputId": "05c07b37-8c2a-4976-84e3-75f4da1e7388"
   },
   "outputs": [
    {
     "name": "stdout",
     "output_type": "stream",
     "text": [
      "(50000, 10)\n",
      "(10000, 10)\n"
     ]
    }
   ],
   "source": [
    "print(y_train.shape)\n",
    "print(y_test.shape)"
   ]
  },
  {
   "cell_type": "code",
   "execution_count": 21,
   "metadata": {
    "colab": {
     "base_uri": "https://localhost:8080/"
    },
    "executionInfo": {
     "elapsed": 433,
     "status": "ok",
     "timestamp": 1697163560287,
     "user": {
      "displayName": "Abhinav Harsh",
      "userId": "08825161285052345463"
     },
     "user_tz": -330
    },
    "id": "w0vmjXIq79Nz",
    "outputId": "a9dc0a46-7d95-4887-9243-792237703c60"
   },
   "outputs": [
    {
     "data": {
      "text/plain": [
       "array([0, 0, 0, 0, 0, 0, 1, 0, 0, 0])"
      ]
     },
     "execution_count": 21,
     "metadata": {},
     "output_type": "execute_result"
    }
   ],
   "source": [
    "#y_train, it can be seen now as, 1 where it is positive with the image\n",
    "y_train[0]"
   ]
  },
  {
   "cell_type": "code",
   "execution_count": null,
   "metadata": {},
   "outputs": [],
   "source": [
    "#second method for the same\n",
    "import pandas as pd\n",
    "from sklearn.preprocessing import OneHotEncoder\n",
    "\n",
    "pd.get_dummies(y)"
   ]
  },
  {
   "cell_type": "raw",
   "metadata": {
    "id": "lRk1hd2llEXG"
   },
   "source": [
    "Create the Model:\n",
    "\n",
    "- Convolutional input layer, 32 feature maps with a size of 5×5 and a rectifier activation function.\n",
    "- Batch Normalization Layer.\n",
    "- Convolutional layer, 32 feature maps with a size of 5×5 and a rectifier activation function.\n",
    "- Batch Normalization layer.\n",
    "- Max Pool layer with size 2×2.\n",
    "- Dropout layer at 25%.\n",
    "---\n",
    "- Convolutional layer, 64 feature maps with a size of 3×3 and a rectifier activation function.\n",
    "- Batch Normalization layer.\n",
    "- Dropout layer at 25%.\n",
    "- Convolutional layer, 64 feature maps with a size of 3×3 and a rectifier activation function.\n",
    "- Batch Normalization layer.\n",
    "- Max Pool layer with size 2×2.\n",
    "- Dropout layer at 25%.\n",
    "---\n",
    "- GlobalMaxPooling2D layer.\n",
    "- Fully connected layer with 256 units and a rectifier activation function.\n",
    "- Dropout layer at 50%.\n",
    "- Fully connected output layer with 10 units and a softmax activation function.\n"
   ]
  },
  {
   "cell_type": "code",
   "execution_count": 18,
   "metadata": {
    "colab": {
     "base_uri": "https://localhost:8080/"
    },
    "executionInfo": {
     "elapsed": 456,
     "status": "ok",
     "timestamp": 1697165756714,
     "user": {
      "displayName": "Abhinav Harsh",
      "userId": "08825161285052345463"
     },
     "user_tz": -330
    },
    "id": "G7Q4W4_-DAkL",
    "outputId": "df08a149-4e41-4bd5-be86-414788432748"
   },
   "outputs": [
    {
     "name": "stdout",
     "output_type": "stream",
     "text": [
      "WARNING:tensorflow:From C:\\Users\\SIMRAN\\anaconda3\\lib\\site-packages\\keras\\src\\backend.py:873: The name tf.get_default_graph is deprecated. Please use tf.compat.v1.get_default_graph instead.\n",
      "\n",
      "WARNING:tensorflow:From C:\\Users\\SIMRAN\\anaconda3\\lib\\site-packages\\keras\\src\\layers\\normalization\\batch_normalization.py:979: The name tf.nn.fused_batch_norm is deprecated. Please use tf.compat.v1.nn.fused_batch_norm instead.\n",
      "\n",
      "Model: \"sequential\"\n",
      "_________________________________________________________________\n",
      " Layer (type)                Output Shape              Param #   \n",
      "=================================================================\n",
      " conv2d (Conv2D)             (None, 32, 32, 32)        2432      \n",
      "                                                                 \n",
      " batch_normalization (Batch  (None, 32, 32, 32)        128       \n",
      " Normalization)                                                  \n",
      "                                                                 \n",
      " max_pooling2d (MaxPooling2  (None, 16, 16, 32)        0         \n",
      " D)                                                              \n",
      "                                                                 \n",
      " dropout (Dropout)           (None, 16, 16, 32)        0         \n",
      "                                                                 \n",
      " conv2d_1 (Conv2D)           (None, 16, 16, 64)        51264     \n",
      "                                                                 \n",
      " batch_normalization_1 (Bat  (None, 16, 16, 64)        256       \n",
      " chNormalization)                                                \n",
      "                                                                 \n",
      " max_pooling2d_1 (MaxPoolin  (None, 8, 8, 64)          0         \n",
      " g2D)                                                            \n",
      "                                                                 \n",
      " dropout_1 (Dropout)         (None, 8, 8, 64)          0         \n",
      "                                                                 \n",
      " conv2d_2 (Conv2D)           (None, 8, 8, 64)          36928     \n",
      "                                                                 \n",
      " batch_normalization_2 (Bat  (None, 8, 8, 64)          256       \n",
      " chNormalization)                                                \n",
      "                                                                 \n",
      " max_pooling2d_2 (MaxPoolin  (None, 4, 4, 64)          0         \n",
      " g2D)                                                            \n",
      "                                                                 \n",
      " dropout_2 (Dropout)         (None, 4, 4, 64)          0         \n",
      "                                                                 \n",
      " conv2d_3 (Conv2D)           (None, 4, 4, 64)          36928     \n",
      "                                                                 \n",
      " batch_normalization_3 (Bat  (None, 4, 4, 64)          256       \n",
      " chNormalization)                                                \n",
      "                                                                 \n",
      " max_pooling2d_3 (MaxPoolin  (None, 2, 2, 64)          0         \n",
      " g2D)                                                            \n",
      "                                                                 \n",
      " dropout_3 (Dropout)         (None, 2, 2, 64)          0         \n",
      "                                                                 \n",
      " flatten (Flatten)           (None, 256)               0         \n",
      "                                                                 \n",
      " dense (Dense)               (None, 256)               65792     \n",
      "                                                                 \n",
      " dropout_4 (Dropout)         (None, 256)               0         \n",
      "                                                                 \n",
      " dense_1 (Dense)             (None, 10)                2570      \n",
      "                                                                 \n",
      "=================================================================\n",
      "Total params: 196810 (768.79 KB)\n",
      "Trainable params: 196362 (767.04 KB)\n",
      "Non-trainable params: 448 (1.75 KB)\n",
      "_________________________________________________________________\n"
     ]
    }
   ],
   "source": [
    "# Set the CNN model\n",
    "\n",
    "batch_size = None\n",
    "\n",
    "model = models.Sequential()\n",
    "model.add(layers.Conv2D(32, (5, 5), padding='same', activation=\"relu\", input_shape=x_train.shape[1:]))\n",
    "model.add(layers.BatchNormalization())\n",
    "model.add(layers.MaxPooling2D((2, 2)))\n",
    "model.add(layers.Dropout(0.2))\n",
    "\n",
    "model.add(layers.Conv2D(64, (5, 5), padding='same', activation=\"relu\"))\n",
    "model.add(layers.BatchNormalization())\n",
    "model.add(layers.MaxPooling2D((2, 2)))\n",
    "model.add(layers.Dropout(0.3))\n",
    "\n",
    "model.add(layers.Conv2D(64, (3, 3), padding='same', activation=\"relu\"))\n",
    "model.add(layers.BatchNormalization())\n",
    "model.add(layers.MaxPooling2D((2, 2)))\n",
    "model.add(layers.Dropout(0.4))\n",
    "\n",
    "model.add(layers.Conv2D(64, (3, 3), padding='same', activation=\"relu\"))\n",
    "model.add(layers.BatchNormalization())\n",
    "model.add(layers.MaxPooling2D((2, 2)))\n",
    "model.add(layers.Dropout(0.5))\n",
    "\n",
    "model.add(layers.Flatten())\n",
    "model.add(layers.Dense(256, activation=\"relu\")) #one hidden layer with 256 neurons\n",
    "model.add(layers.Dropout(0.5))\n",
    "\n",
    "# softmax\n",
    "model.add(layers.Dense(10, activation=\"softmax\"))\n",
    "\n",
    "model.summary()"
   ]
  },
  {
   "cell_type": "raw",
   "metadata": {
    "id": "j9Bltmc3mFhQ"
   },
   "source": [
    "When training the network, what you want is minimize the cost by applying a algorithm of your choice. It could be SGD, AdamOptimizer, AdagradOptimizer, or something. You have to study how each algorithm works to choose what to use, but AdamOptimizer works find for most cases in general."
   ]
  },
  {
   "cell_type": "code",
   "execution_count": 19,
   "metadata": {
    "executionInfo": {
     "elapsed": 5,
     "status": "ok",
     "timestamp": 1697165856979,
     "user": {
      "displayName": "Abhinav Harsh",
      "userId": "08825161285052345463"
     },
     "user_tz": -330
    },
    "id": "WwbnUwjGReRR"
   },
   "outputs": [],
   "source": [
    "# initiate Adam optimizer\n",
    "opt = optimizers.Adam(learning_rate=0.001, beta_1=0.9, beta_2=0.999, epsilon=1e-08)"
   ]
  },
  {
   "cell_type": "code",
   "execution_count": 20,
   "metadata": {
    "executionInfo": {
     "elapsed": 2,
     "status": "ok",
     "timestamp": 1697165897085,
     "user": {
      "displayName": "Abhinav Harsh",
      "userId": "08825161285052345463"
     },
     "user_tz": -330
    },
    "id": "eDiEZTmyRfmx"
   },
   "outputs": [],
   "source": [
    "# Let's train the model \n",
    "model.compile(loss='categorical_crossentropy',\n",
    "              optimizer=opt,\n",
    "              metrics=['accuracy'])"
   ]
  },
  {
   "cell_type": "raw",
   "metadata": {
    "id": "qXHjbtgluIyn"
   },
   "source": [
    "Standarizing the data\n",
    "\n",
    "- The pixel values are in the range of 0 to 255 for each of the red, green and blue channels.\n",
    "\n",
    "- It is good practice to work with normalized data. Because the input values are well understood, we can easily normalize to the range 0 to 1 by dividing each value by the maximum observation which is 255.\n",
    "\n",
    "- Note, the data is loaded as integers, so we must cast it to floating point values in order to perform the division."
   ]
  },
  {
   "cell_type": "code",
   "execution_count": 21,
   "metadata": {
    "executionInfo": {
     "elapsed": 451,
     "status": "ok",
     "timestamp": 1697165922953,
     "user": {
      "displayName": "Abhinav Harsh",
      "userId": "08825161285052345463"
     },
     "user_tz": -330
    },
    "id": "fdy_QO9tRifH"
   },
   "outputs": [],
   "source": [
    "#standarizing the data\n",
    "x_train = x_train.astype('float32') # Conversion to float type from integer type.\n",
    "x_test = x_test.astype('float32')\n",
    "x_train /= 255.0 # Division by 255\n",
    "x_test /= 255.0"
   ]
  },
  {
   "cell_type": "code",
   "execution_count": 22,
   "metadata": {
    "colab": {
     "base_uri": "https://localhost:8080/"
    },
    "executionInfo": {
     "elapsed": 12,
     "status": "ok",
     "timestamp": 1697160999392,
     "user": {
      "displayName": "Abhinav Harsh",
      "userId": "08825161285052345463"
     },
     "user_tz": -330
    },
    "id": "Hbe2G_w9bvNh",
    "outputId": "0440d4fb-9ea7-4ad5-f66b-ac07d1962f42"
   },
   "outputs": [
    {
     "name": "stdout",
     "output_type": "stream",
     "text": [
      "WARNING:tensorflow:`period` argument is deprecated. Please use `save_freq` to specify the frequency in number of batches seen.\n"
     ]
    }
   ],
   "source": [
    "#Adding Early stopping callback to the fit function is going to stop the training,\n",
    "#if the val_loss is not going to change even '0.001' for more than 10 continous epochs\n",
    "\n",
    "from tensorflow.keras.callbacks import ModelCheckpoint, EarlyStopping\n",
    "\n",
    "early_stopping = EarlyStopping(monitor='val_loss', min_delta=0.001, patience=10)\n",
    "\n",
    "#Adding Model Checkpoint callback to the fit function is going to save the weights whenever val_loss achieves a new low value.\n",
    "#Hence saving the best weights occurred during training\n",
    "\n",
    "model_checkpoint =  ModelCheckpoint('cifar_cnn_checkpoint_{epoch:02d}_loss{val_loss:.4f}.h5',\n",
    "                                                           monitor='val_loss',\n",
    "                                                           verbose=1,\n",
    "                                                           save_best_only=True,\n",
    "                                                           save_weights_only=True,\n",
    "                                                           mode='auto',\n",
    "                                                           period=1)"
   ]
  },
  {
   "cell_type": "code",
   "execution_count": 23,
   "metadata": {},
   "outputs": [
    {
     "data": {
      "text/plain": [
       "50000"
      ]
     },
     "execution_count": 23,
     "metadata": {},
     "output_type": "execute_result"
    }
   ],
   "source": [
    "x_train.shape[0]"
   ]
  },
  {
   "cell_type": "code",
   "execution_count": 24,
   "metadata": {
    "colab": {
     "base_uri": "https://localhost:8080/"
    },
    "executionInfo": {
     "elapsed": 8,
     "status": "ok",
     "timestamp": 1697160999392,
     "user": {
      "displayName": "Abhinav Harsh",
      "userId": "08825161285052345463"
     },
     "user_tz": -330
    },
    "id": "jCN4Vz4NPhuU",
    "outputId": "a560e82f-b2a2-472e-c7a7-c88c05f3204a"
   },
   "outputs": [
    {
     "name": "stdout",
     "output_type": "stream",
     "text": [
      "(50000, 32, 32, 3)\n",
      "(10000, 32, 32, 3)\n"
     ]
    }
   ],
   "source": [
    "x_train = x_train.reshape(x_train.shape[0], 32, 32, 3)\n",
    "x_test = x_test.reshape(x_test.shape[0], 32, 32, 3)\n",
    "\n",
    "print(x_train.shape)\n",
    "print(x_test.shape)"
   ]
  },
  {
   "cell_type": "code",
   "execution_count": 25,
   "metadata": {
    "colab": {
     "base_uri": "https://localhost:8080/",
     "height": 1000
    },
    "executionInfo": {
     "elapsed": 610879,
     "status": "ok",
     "timestamp": 1697167093426,
     "user": {
      "displayName": "Abhinav Harsh",
      "userId": "08825161285052345463"
     },
     "user_tz": -330
    },
    "id": "xd6Iem_qAUxG",
    "outputId": "1dbe9305-f84e-422a-efef-77f637a9d8f4",
    "scrolled": false
   },
   "outputs": [
    {
     "name": "stdout",
     "output_type": "stream",
     "text": [
      "Epoch 1/100\n",
      "WARNING:tensorflow:From C:\\Users\\SIMRAN\\anaconda3\\lib\\site-packages\\keras\\src\\utils\\tf_utils.py:492: The name tf.ragged.RaggedTensorValue is deprecated. Please use tf.compat.v1.ragged.RaggedTensorValue instead.\n",
      "\n",
      "WARNING:tensorflow:From C:\\Users\\SIMRAN\\anaconda3\\lib\\site-packages\\keras\\src\\engine\\base_layer_utils.py:384: The name tf.executing_eagerly_outside_functions is deprecated. Please use tf.compat.v1.executing_eagerly_outside_functions instead.\n",
      "\n",
      "1563/1563 [==============================] - ETA: 0s - loss: 1.9025 - accuracy: 0.3065\n",
      "Epoch 1: val_loss improved from inf to 1.97054, saving model to cifar_cnn_checkpoint_01_loss1.9705.h5\n",
      "1563/1563 [==============================] - 103s 61ms/step - loss: 1.9025 - accuracy: 0.3065 - val_loss: 1.9705 - val_accuracy: 0.3391\n",
      "Epoch 2/100\n",
      "1563/1563 [==============================] - ETA: 0s - loss: 1.5339 - accuracy: 0.4355\n",
      "Epoch 2: val_loss improved from 1.97054 to 1.75330, saving model to cifar_cnn_checkpoint_02_loss1.7533.h5\n",
      "1563/1563 [==============================] - 90s 57ms/step - loss: 1.5339 - accuracy: 0.4355 - val_loss: 1.7533 - val_accuracy: 0.4593\n",
      "Epoch 3/100\n",
      "1563/1563 [==============================] - ETA: 0s - loss: 1.3836 - accuracy: 0.5023\n",
      "Epoch 3: val_loss improved from 1.75330 to 1.23336, saving model to cifar_cnn_checkpoint_03_loss1.2334.h5\n",
      "1563/1563 [==============================] - 100s 64ms/step - loss: 1.3836 - accuracy: 0.5023 - val_loss: 1.2334 - val_accuracy: 0.5595\n",
      "Epoch 4/100\n",
      "1563/1563 [==============================] - ETA: 0s - loss: 1.2661 - accuracy: 0.5503\n",
      "Epoch 4: val_loss improved from 1.23336 to 1.06666, saving model to cifar_cnn_checkpoint_04_loss1.0667.h5\n",
      "1563/1563 [==============================] - 125s 80ms/step - loss: 1.2661 - accuracy: 0.5503 - val_loss: 1.0667 - val_accuracy: 0.6110\n",
      "Epoch 5/100\n",
      "1563/1563 [==============================] - ETA: 0s - loss: 1.1869 - accuracy: 0.5807\n",
      "Epoch 5: val_loss improved from 1.06666 to 1.06051, saving model to cifar_cnn_checkpoint_05_loss1.0605.h5\n",
      "1563/1563 [==============================] - 100s 64ms/step - loss: 1.1869 - accuracy: 0.5807 - val_loss: 1.0605 - val_accuracy: 0.6342\n",
      "Epoch 6/100\n",
      "1563/1563 [==============================] - ETA: 0s - loss: 1.1194 - accuracy: 0.6069\n",
      "Epoch 6: val_loss did not improve from 1.06051\n",
      "1563/1563 [==============================] - 100s 64ms/step - loss: 1.1194 - accuracy: 0.6069 - val_loss: 1.0905 - val_accuracy: 0.6256\n",
      "Epoch 7/100\n",
      "1563/1563 [==============================] - ETA: 0s - loss: 1.0694 - accuracy: 0.6256\n",
      "Epoch 7: val_loss did not improve from 1.06051\n",
      "1563/1563 [==============================] - 98s 63ms/step - loss: 1.0694 - accuracy: 0.6256 - val_loss: 1.1894 - val_accuracy: 0.6088\n",
      "Epoch 8/100\n",
      "1563/1563 [==============================] - ETA: 0s - loss: 1.0288 - accuracy: 0.6395\n",
      "Epoch 8: val_loss improved from 1.06051 to 1.03231, saving model to cifar_cnn_checkpoint_08_loss1.0323.h5\n",
      "1563/1563 [==============================] - 103s 66ms/step - loss: 1.0288 - accuracy: 0.6395 - val_loss: 1.0323 - val_accuracy: 0.6536\n",
      "Epoch 9/100\n",
      "1563/1563 [==============================] - ETA: 0s - loss: 0.9879 - accuracy: 0.6555\n",
      "Epoch 9: val_loss improved from 1.03231 to 0.89113, saving model to cifar_cnn_checkpoint_09_loss0.8911.h5\n",
      "1563/1563 [==============================] - 95s 61ms/step - loss: 0.9879 - accuracy: 0.6555 - val_loss: 0.8911 - val_accuracy: 0.6919\n",
      "Epoch 10/100\n",
      "1563/1563 [==============================] - ETA: 0s - loss: 0.9584 - accuracy: 0.6645\n",
      "Epoch 10: val_loss did not improve from 0.89113\n",
      "1563/1563 [==============================] - 96s 61ms/step - loss: 0.9584 - accuracy: 0.6645 - val_loss: 1.3308 - val_accuracy: 0.5735\n",
      "Epoch 11/100\n",
      "1563/1563 [==============================] - ETA: 0s - loss: 0.9241 - accuracy: 0.6756\n",
      "Epoch 11: val_loss did not improve from 0.89113\n",
      "1563/1563 [==============================] - 96s 62ms/step - loss: 0.9241 - accuracy: 0.6756 - val_loss: 1.0107 - val_accuracy: 0.6438\n",
      "Epoch 12/100\n",
      "1563/1563 [==============================] - ETA: 0s - loss: 0.9071 - accuracy: 0.6843\n",
      "Epoch 12: val_loss did not improve from 0.89113\n",
      "1563/1563 [==============================] - 95s 61ms/step - loss: 0.9071 - accuracy: 0.6843 - val_loss: 0.9800 - val_accuracy: 0.6589\n",
      "Epoch 13/100\n",
      "1563/1563 [==============================] - ETA: 0s - loss: 0.8864 - accuracy: 0.6912\n",
      "Epoch 13: val_loss improved from 0.89113 to 0.76817, saving model to cifar_cnn_checkpoint_13_loss0.7682.h5\n",
      "1563/1563 [==============================] - 96s 62ms/step - loss: 0.8864 - accuracy: 0.6912 - val_loss: 0.7682 - val_accuracy: 0.7301\n",
      "Epoch 14/100\n",
      "1563/1563 [==============================] - ETA: 0s - loss: 0.8740 - accuracy: 0.6970\n",
      "Epoch 14: val_loss did not improve from 0.76817\n",
      "1563/1563 [==============================] - 96s 61ms/step - loss: 0.8740 - accuracy: 0.6970 - val_loss: 0.8388 - val_accuracy: 0.7068\n",
      "Epoch 15/100\n",
      "1563/1563 [==============================] - ETA: 0s - loss: 0.8561 - accuracy: 0.7009\n",
      "Epoch 15: val_loss improved from 0.76817 to 0.72720, saving model to cifar_cnn_checkpoint_15_loss0.7272.h5\n",
      "1563/1563 [==============================] - 100s 64ms/step - loss: 0.8561 - accuracy: 0.7009 - val_loss: 0.7272 - val_accuracy: 0.7477\n",
      "Epoch 16/100\n",
      "1563/1563 [==============================] - ETA: 0s - loss: 0.8352 - accuracy: 0.7078\n",
      "Epoch 16: val_loss did not improve from 0.72720\n",
      "1563/1563 [==============================] - 116s 74ms/step - loss: 0.8352 - accuracy: 0.7078 - val_loss: 0.9704 - val_accuracy: 0.6664\n",
      "Epoch 17/100\n",
      "1563/1563 [==============================] - ETA: 0s - loss: 0.8242 - accuracy: 0.7144\n",
      "Epoch 17: val_loss did not improve from 0.72720\n",
      "1563/1563 [==============================] - 95s 61ms/step - loss: 0.8242 - accuracy: 0.7144 - val_loss: 0.8865 - val_accuracy: 0.6938\n",
      "Epoch 18/100\n",
      "1563/1563 [==============================] - ETA: 0s - loss: 0.8136 - accuracy: 0.7176\n",
      "Epoch 18: val_loss did not improve from 0.72720\n",
      "1563/1563 [==============================] - 84s 54ms/step - loss: 0.8136 - accuracy: 0.7176 - val_loss: 0.7376 - val_accuracy: 0.7462\n",
      "Epoch 19/100\n",
      "1563/1563 [==============================] - ETA: 0s - loss: 0.8026 - accuracy: 0.7208\n",
      "Epoch 19: val_loss did not improve from 0.72720\n",
      "1563/1563 [==============================] - 113s 72ms/step - loss: 0.8026 - accuracy: 0.7208 - val_loss: 0.8848 - val_accuracy: 0.6859\n",
      "Epoch 20/100\n",
      "1563/1563 [==============================] - ETA: 0s - loss: 0.7928 - accuracy: 0.7271\n",
      "Epoch 20: val_loss did not improve from 0.72720\n",
      "1563/1563 [==============================] - 116s 74ms/step - loss: 0.7928 - accuracy: 0.7271 - val_loss: 0.9533 - val_accuracy: 0.6705\n",
      "Epoch 21/100\n",
      "1563/1563 [==============================] - ETA: 0s - loss: 0.7878 - accuracy: 0.7273\n",
      "Epoch 21: val_loss improved from 0.72720 to 0.70872, saving model to cifar_cnn_checkpoint_21_loss0.7087.h5\n",
      "1563/1563 [==============================] - 111s 71ms/step - loss: 0.7878 - accuracy: 0.7273 - val_loss: 0.7087 - val_accuracy: 0.7502\n",
      "Epoch 22/100\n",
      "1563/1563 [==============================] - ETA: 0s - loss: 0.7757 - accuracy: 0.7319\n",
      "Epoch 22: val_loss did not improve from 0.70872\n",
      "1563/1563 [==============================] - 111s 71ms/step - loss: 0.7757 - accuracy: 0.7319 - val_loss: 0.8126 - val_accuracy: 0.7108\n",
      "Epoch 23/100\n",
      "1563/1563 [==============================] - ETA: 0s - loss: 0.7670 - accuracy: 0.7352\n",
      "Epoch 23: val_loss improved from 0.70872 to 0.70133, saving model to cifar_cnn_checkpoint_23_loss0.7013.h5\n",
      "1563/1563 [==============================] - 109s 70ms/step - loss: 0.7670 - accuracy: 0.7352 - val_loss: 0.7013 - val_accuracy: 0.7530\n",
      "Epoch 24/100\n",
      "1563/1563 [==============================] - ETA: 0s - loss: 0.7550 - accuracy: 0.7387\n",
      "Epoch 24: val_loss did not improve from 0.70133\n",
      "1563/1563 [==============================] - 109s 69ms/step - loss: 0.7550 - accuracy: 0.7387 - val_loss: 0.8784 - val_accuracy: 0.7034\n",
      "Epoch 25/100\n",
      "1563/1563 [==============================] - ETA: 0s - loss: 0.7551 - accuracy: 0.7405\n",
      "Epoch 25: val_loss did not improve from 0.70133\n",
      "1563/1563 [==============================] - 109s 70ms/step - loss: 0.7551 - accuracy: 0.7405 - val_loss: 0.9339 - val_accuracy: 0.7006\n",
      "Epoch 26/100\n",
      "1563/1563 [==============================] - ETA: 0s - loss: 0.7507 - accuracy: 0.7421\n",
      "Epoch 26: val_loss improved from 0.70133 to 0.66675, saving model to cifar_cnn_checkpoint_26_loss0.6668.h5\n",
      "1563/1563 [==============================] - 104s 66ms/step - loss: 0.7507 - accuracy: 0.7421 - val_loss: 0.6668 - val_accuracy: 0.7723\n",
      "Epoch 27/100\n",
      "1563/1563 [==============================] - ETA: 0s - loss: 0.7448 - accuracy: 0.7461\n",
      "Epoch 27: val_loss did not improve from 0.66675\n",
      "1563/1563 [==============================] - 104s 66ms/step - loss: 0.7448 - accuracy: 0.7461 - val_loss: 0.7779 - val_accuracy: 0.7373\n",
      "Epoch 28/100\n",
      "1563/1563 [==============================] - ETA: 0s - loss: 0.7383 - accuracy: 0.7455\n",
      "Epoch 28: val_loss did not improve from 0.66675\n",
      "1563/1563 [==============================] - 105s 67ms/step - loss: 0.7383 - accuracy: 0.7455 - val_loss: 0.7151 - val_accuracy: 0.7535\n",
      "Epoch 29/100\n",
      "1563/1563 [==============================] - ETA: 0s - loss: 0.7313 - accuracy: 0.7482\n",
      "Epoch 29: val_loss did not improve from 0.66675\n",
      "1563/1563 [==============================] - 105s 67ms/step - loss: 0.7313 - accuracy: 0.7482 - val_loss: 0.6743 - val_accuracy: 0.7697\n",
      "Epoch 30/100\n",
      "1563/1563 [==============================] - ETA: 0s - loss: 0.7317 - accuracy: 0.7463\n",
      "Epoch 30: val_loss did not improve from 0.66675\n",
      "1563/1563 [==============================] - 104s 66ms/step - loss: 0.7317 - accuracy: 0.7463 - val_loss: 0.8866 - val_accuracy: 0.7029\n",
      "Epoch 31/100\n",
      "1563/1563 [==============================] - ETA: 0s - loss: 0.7213 - accuracy: 0.7529\n",
      "Epoch 31: val_loss did not improve from 0.66675\n",
      "1563/1563 [==============================] - 105s 67ms/step - loss: 0.7213 - accuracy: 0.7529 - val_loss: 0.6793 - val_accuracy: 0.7679\n",
      "Epoch 32/100\n",
      "1563/1563 [==============================] - ETA: 0s - loss: 0.7234 - accuracy: 0.7518\n",
      "Epoch 32: val_loss improved from 0.66675 to 0.62610, saving model to cifar_cnn_checkpoint_32_loss0.6261.h5\n",
      "1563/1563 [==============================] - 105s 67ms/step - loss: 0.7234 - accuracy: 0.7518 - val_loss: 0.6261 - val_accuracy: 0.7874\n",
      "Epoch 33/100\n",
      "1563/1563 [==============================] - ETA: 0s - loss: 0.7126 - accuracy: 0.7557\n",
      "Epoch 33: val_loss did not improve from 0.62610\n",
      "1563/1563 [==============================] - 104s 67ms/step - loss: 0.7126 - accuracy: 0.7557 - val_loss: 0.6479 - val_accuracy: 0.7725\n",
      "Epoch 34/100\n",
      "1563/1563 [==============================] - ETA: 0s - loss: 0.7109 - accuracy: 0.7575\n",
      "Epoch 34: val_loss did not improve from 0.62610\n",
      "1563/1563 [==============================] - 104s 67ms/step - loss: 0.7109 - accuracy: 0.7575 - val_loss: 0.6334 - val_accuracy: 0.7825\n",
      "Epoch 35/100\n",
      "1563/1563 [==============================] - ETA: 0s - loss: 0.7025 - accuracy: 0.7593\n",
      "Epoch 35: val_loss did not improve from 0.62610\n",
      "1563/1563 [==============================] - 108s 69ms/step - loss: 0.7025 - accuracy: 0.7593 - val_loss: 0.7230 - val_accuracy: 0.7544\n",
      "Epoch 36/100\n",
      "1563/1563 [==============================] - ETA: 0s - loss: 0.6998 - accuracy: 0.7603\n",
      "Epoch 36: val_loss did not improve from 0.62610\n",
      "1563/1563 [==============================] - 107s 69ms/step - loss: 0.6998 - accuracy: 0.7603 - val_loss: 0.6689 - val_accuracy: 0.7682\n",
      "Epoch 37/100\n",
      "1563/1563 [==============================] - ETA: 0s - loss: 0.6980 - accuracy: 0.7589\n",
      "Epoch 37: val_loss did not improve from 0.62610\n",
      "1563/1563 [==============================] - 113s 72ms/step - loss: 0.6980 - accuracy: 0.7589 - val_loss: 0.8401 - val_accuracy: 0.7168\n",
      "Epoch 38/100\n",
      "1563/1563 [==============================] - ETA: 0s - loss: 0.6922 - accuracy: 0.7628\n",
      "Epoch 38: val_loss did not improve from 0.62610\n",
      "1563/1563 [==============================] - 112s 72ms/step - loss: 0.6922 - accuracy: 0.7628 - val_loss: 0.6894 - val_accuracy: 0.7616\n",
      "Epoch 39/100\n",
      "1563/1563 [==============================] - ETA: 0s - loss: 0.6903 - accuracy: 0.7611\n",
      "Epoch 39: val_loss did not improve from 0.62610\n",
      "1563/1563 [==============================] - 109s 70ms/step - loss: 0.6903 - accuracy: 0.7611 - val_loss: 0.6269 - val_accuracy: 0.7843\n",
      "Epoch 40/100\n",
      "1563/1563 [==============================] - ETA: 0s - loss: 0.6898 - accuracy: 0.7650\n",
      "Epoch 40: val_loss improved from 0.62610 to 0.60867, saving model to cifar_cnn_checkpoint_40_loss0.6087.h5\n",
      "1563/1563 [==============================] - 111s 71ms/step - loss: 0.6898 - accuracy: 0.7650 - val_loss: 0.6087 - val_accuracy: 0.7881\n",
      "Epoch 41/100\n",
      "1563/1563 [==============================] - ETA: 0s - loss: 0.6883 - accuracy: 0.7643\n",
      "Epoch 41: val_loss did not improve from 0.60867\n",
      "1563/1563 [==============================] - 108s 69ms/step - loss: 0.6883 - accuracy: 0.7643 - val_loss: 0.6088 - val_accuracy: 0.7878\n",
      "Epoch 42/100\n",
      "1563/1563 [==============================] - ETA: 0s - loss: 0.6783 - accuracy: 0.7680\n",
      "Epoch 42: val_loss improved from 0.60867 to 0.57483, saving model to cifar_cnn_checkpoint_42_loss0.5748.h5\n",
      "1563/1563 [==============================] - 109s 70ms/step - loss: 0.6783 - accuracy: 0.7680 - val_loss: 0.5748 - val_accuracy: 0.7973\n",
      "Epoch 43/100\n",
      "1563/1563 [==============================] - ETA: 0s - loss: 0.6817 - accuracy: 0.7661\n",
      "Epoch 43: val_loss did not improve from 0.57483\n",
      "1563/1563 [==============================] - 109s 70ms/step - loss: 0.6817 - accuracy: 0.7661 - val_loss: 0.6941 - val_accuracy: 0.7616\n",
      "Epoch 44/100\n",
      "1563/1563 [==============================] - ETA: 0s - loss: 0.6757 - accuracy: 0.7684\n",
      "Epoch 44: val_loss did not improve from 0.57483\n",
      "1563/1563 [==============================] - 107s 68ms/step - loss: 0.6757 - accuracy: 0.7684 - val_loss: 0.6707 - val_accuracy: 0.7643\n",
      "Epoch 45/100\n",
      "1563/1563 [==============================] - ETA: 0s - loss: 0.6718 - accuracy: 0.7684\n",
      "Epoch 45: val_loss did not improve from 0.57483\n",
      "1563/1563 [==============================] - 110s 71ms/step - loss: 0.6718 - accuracy: 0.7684 - val_loss: 0.5822 - val_accuracy: 0.7993\n",
      "Epoch 46/100\n",
      "1563/1563 [==============================] - ETA: 0s - loss: 0.6677 - accuracy: 0.7713\n",
      "Epoch 46: val_loss did not improve from 0.57483\n",
      "1563/1563 [==============================] - 109s 70ms/step - loss: 0.6677 - accuracy: 0.7713 - val_loss: 0.6283 - val_accuracy: 0.7821\n",
      "Epoch 47/100\n",
      "1563/1563 [==============================] - ETA: 0s - loss: 0.6693 - accuracy: 0.7688\n",
      "Epoch 47: val_loss did not improve from 0.57483\n",
      "1563/1563 [==============================] - 108s 69ms/step - loss: 0.6693 - accuracy: 0.7688 - val_loss: 0.6218 - val_accuracy: 0.7831\n",
      "Epoch 48/100\n",
      "1563/1563 [==============================] - ETA: 0s - loss: 0.6720 - accuracy: 0.7718\n",
      "Epoch 48: val_loss did not improve from 0.57483\n",
      "1563/1563 [==============================] - 110s 71ms/step - loss: 0.6720 - accuracy: 0.7718 - val_loss: 0.6415 - val_accuracy: 0.7822\n",
      "Epoch 49/100\n",
      "1563/1563 [==============================] - ETA: 0s - loss: 0.6607 - accuracy: 0.7731\n",
      "Epoch 49: val_loss did not improve from 0.57483\n",
      "1563/1563 [==============================] - 108s 69ms/step - loss: 0.6607 - accuracy: 0.7731 - val_loss: 0.6369 - val_accuracy: 0.7866\n",
      "Epoch 50/100\n",
      "1563/1563 [==============================] - ETA: 0s - loss: 0.6615 - accuracy: 0.7731\n",
      "Epoch 50: val_loss did not improve from 0.57483\n",
      "1563/1563 [==============================] - 110s 70ms/step - loss: 0.6615 - accuracy: 0.7731 - val_loss: 0.6025 - val_accuracy: 0.7946\n",
      "Epoch 51/100\n",
      "1563/1563 [==============================] - ETA: 0s - loss: 0.6555 - accuracy: 0.7768\n",
      "Epoch 51: val_loss did not improve from 0.57483\n",
      "1563/1563 [==============================] - 112s 72ms/step - loss: 0.6555 - accuracy: 0.7768 - val_loss: 0.5932 - val_accuracy: 0.7952\n",
      "Epoch 52/100\n",
      "1563/1563 [==============================] - ETA: 0s - loss: 0.6573 - accuracy: 0.7745\n",
      "Epoch 52: val_loss did not improve from 0.57483\n",
      "1563/1563 [==============================] - 108s 69ms/step - loss: 0.6573 - accuracy: 0.7745 - val_loss: 0.6071 - val_accuracy: 0.7912\n"
     ]
    },
    {
     "data": {
      "image/png": "[encoded data removed]",
      "text/plain": [
       "<Figure size 640x480 with 1 Axes>"
      ]
     },
     "metadata": {},
     "output_type": "display_data"
    }
   ],
   "source": [
    "history = model.fit(x_train,\n",
    "                    y_train,\n",
    "                    batch_size=batch_size,\n",
    "                    epochs=100,\n",
    "                    validation_data=(x_test, y_test),\n",
    "                    shuffle=True,\n",
    "                    verbose=1,\n",
    "                    callbacks=[early_stopping,model_checkpoint])\n",
    "\n",
    "# plot training history\n",
    "plt.plot(history.history['loss'], label='train')\n",
    "plt.plot(history.history['val_loss'], label='test')\n",
    "plt.legend()\n",
    "plt.show()\n",
    "\n",
    "#for learning purpose less epochs is choosen, you should tune this hyperparameter for better performance"
   ]
  },
  {
   "cell_type": "code",
   "execution_count": 26,
   "metadata": {
    "colab": {
     "base_uri": "https://localhost:8080/"
    },
    "executionInfo": {
     "elapsed": 2119,
     "status": "ok",
     "timestamp": 1697162049389,
     "user": {
      "displayName": "Abhinav Harsh",
      "userId": "08825161285052345463"
     },
     "user_tz": -330
    },
    "id": "rLXR1tDpRrO2",
    "outputId": "de1e7f4c-07ab-49cc-d9c0-6ca5e8cf7e06"
   },
   "outputs": [
    {
     "name": "stdout",
     "output_type": "stream",
     "text": [
      "313/313 [==============================] - 7s 22ms/step - loss: 0.6071 - accuracy: 0.7912\n",
      "Test loss: 0.6071414351463318\n",
      "Test accuracy: 0.7911999821662903\n"
     ]
    }
   ],
   "source": [
    "# Score trained model.\n",
    "scores = model.evaluate(x_test, y_test, verbose=1)\n",
    "print('Test loss:', scores[0])\n",
    "print('Test accuracy:', scores[1])\n",
    "# sigmoid"
   ]
  },
  {
   "cell_type": "raw",
   "metadata": {},
   "source": [
    "#hyperparameter tuning can increase the accuracy also the pixel of the image is less which can be the reason for the\n",
    "# low accuracy for now, but the score is good for the prediction"
   ]
  },
  {
   "cell_type": "code",
   "execution_count": 27,
   "metadata": {
    "colab": {
     "base_uri": "https://localhost:8080/"
    },
    "executionInfo": {
     "elapsed": 1659,
     "status": "ok",
     "timestamp": 1697162051043,
     "user": {
      "displayName": "Abhinav Harsh",
      "userId": "08825161285052345463"
     },
     "user_tz": -330
    },
    "id": "7OkPMhWvShME",
    "outputId": "e40e4483-a3f1-4c53-faac-03bfea829ee0"
   },
   "outputs": [
    {
     "name": "stdout",
     "output_type": "stream",
     "text": [
      "313/313 [==============================] - 9s 22ms/step\n"
     ]
    }
   ],
   "source": [
    "predictions = model.predict(x_test)"
   ]
  },
  {
   "cell_type": "code",
   "execution_count": 28,
   "metadata": {
    "colab": {
     "base_uri": "https://localhost:8080/",
     "height": 424
    },
    "executionInfo": {
     "elapsed": 11,
     "status": "ok",
     "timestamp": 1697162051043,
     "user": {
      "displayName": "Abhinav Harsh",
      "userId": "08825161285052345463"
     },
     "user_tz": -330
    },
    "id": "uPPyorjmSsej",
    "outputId": "d28077d4-de8f-45f1-c053-74fb3da258d8"
   },
   "outputs": [
    {
     "data": {
      "text/html": [
       "<div>\n",
       "<style scoped>\n",
       "    .dataframe tbody tr th:only-of-type {\n",
       "        vertical-align: middle;\n",
       "    }\n",
       "\n",
       "    .dataframe tbody tr th {\n",
       "        vertical-align: top;\n",
       "    }\n",
       "\n",
       "    .dataframe thead th {\n",
       "        text-align: right;\n",
       "    }\n",
       "</style>\n",
       "<table border=\"1\" class=\"dataframe\">\n",
       "  <thead>\n",
       "    <tr style=\"text-align: right;\">\n",
       "      <th></th>\n",
       "      <th>0</th>\n",
       "      <th>1</th>\n",
       "      <th>2</th>\n",
       "      <th>3</th>\n",
       "      <th>4</th>\n",
       "      <th>5</th>\n",
       "      <th>6</th>\n",
       "      <th>7</th>\n",
       "      <th>8</th>\n",
       "      <th>9</th>\n",
       "    </tr>\n",
       "  </thead>\n",
       "  <tbody>\n",
       "    <tr>\n",
       "      <th>0</th>\n",
       "      <td>1.085919e-04</td>\n",
       "      <td>1.776379e-04</td>\n",
       "      <td>0.000682</td>\n",
       "      <td>0.582963</td>\n",
       "      <td>0.000526</td>\n",
       "      <td>0.314984</td>\n",
       "      <td>0.099586</td>\n",
       "      <td>1.553694e-04</td>\n",
       "      <td>5.201016e-04</td>\n",
       "      <td>2.958412e-04</td>\n",
       "    </tr>\n",
       "    <tr>\n",
       "      <th>1</th>\n",
       "      <td>6.605163e-03</td>\n",
       "      <td>2.580067e-01</td>\n",
       "      <td>0.000073</td>\n",
       "      <td>0.000268</td>\n",
       "      <td>0.000003</td>\n",
       "      <td>0.000003</td>\n",
       "      <td>0.000027</td>\n",
       "      <td>2.000701e-06</td>\n",
       "      <td>7.347930e-01</td>\n",
       "      <td>2.179122e-04</td>\n",
       "    </tr>\n",
       "    <tr>\n",
       "      <th>2</th>\n",
       "      <td>1.644520e-02</td>\n",
       "      <td>1.034624e-02</td>\n",
       "      <td>0.000529</td>\n",
       "      <td>0.003659</td>\n",
       "      <td>0.000160</td>\n",
       "      <td>0.000023</td>\n",
       "      <td>0.000211</td>\n",
       "      <td>9.543000e-05</td>\n",
       "      <td>9.672819e-01</td>\n",
       "      <td>1.249581e-03</td>\n",
       "    </tr>\n",
       "    <tr>\n",
       "      <th>3</th>\n",
       "      <td>9.325504e-01</td>\n",
       "      <td>4.512614e-04</td>\n",
       "      <td>0.011549</td>\n",
       "      <td>0.002303</td>\n",
       "      <td>0.002365</td>\n",
       "      <td>0.000132</td>\n",
       "      <td>0.000329</td>\n",
       "      <td>9.004054e-05</td>\n",
       "      <td>4.985923e-02</td>\n",
       "      <td>3.700473e-04</td>\n",
       "    </tr>\n",
       "    <tr>\n",
       "      <th>4</th>\n",
       "      <td>7.867246e-06</td>\n",
       "      <td>1.356194e-05</td>\n",
       "      <td>0.004512</td>\n",
       "      <td>0.001868</td>\n",
       "      <td>0.001040</td>\n",
       "      <td>0.000052</td>\n",
       "      <td>0.992479</td>\n",
       "      <td>9.727671e-07</td>\n",
       "      <td>2.054046e-05</td>\n",
       "      <td>6.564836e-06</td>\n",
       "    </tr>\n",
       "    <tr>\n",
       "      <th>...</th>\n",
       "      <td>...</td>\n",
       "      <td>...</td>\n",
       "      <td>...</td>\n",
       "      <td>...</td>\n",
       "      <td>...</td>\n",
       "      <td>...</td>\n",
       "      <td>...</td>\n",
       "      <td>...</td>\n",
       "      <td>...</td>\n",
       "      <td>...</td>\n",
       "    </tr>\n",
       "    <tr>\n",
       "      <th>9995</th>\n",
       "      <td>4.390072e-01</td>\n",
       "      <td>9.073644e-04</td>\n",
       "      <td>0.022465</td>\n",
       "      <td>0.112056</td>\n",
       "      <td>0.018362</td>\n",
       "      <td>0.016399</td>\n",
       "      <td>0.006648</td>\n",
       "      <td>2.214676e-03</td>\n",
       "      <td>3.812161e-01</td>\n",
       "      <td>7.258818e-04</td>\n",
       "    </tr>\n",
       "    <tr>\n",
       "      <th>9996</th>\n",
       "      <td>2.422249e-06</td>\n",
       "      <td>2.352338e-07</td>\n",
       "      <td>0.000811</td>\n",
       "      <td>0.529121</td>\n",
       "      <td>0.001928</td>\n",
       "      <td>0.411737</td>\n",
       "      <td>0.056266</td>\n",
       "      <td>1.334896e-04</td>\n",
       "      <td>2.703421e-07</td>\n",
       "      <td>8.486892e-07</td>\n",
       "    </tr>\n",
       "    <tr>\n",
       "      <th>9997</th>\n",
       "      <td>3.970541e-08</td>\n",
       "      <td>8.770414e-09</td>\n",
       "      <td>0.000059</td>\n",
       "      <td>0.004642</td>\n",
       "      <td>0.000003</td>\n",
       "      <td>0.995146</td>\n",
       "      <td>0.000013</td>\n",
       "      <td>1.380672e-04</td>\n",
       "      <td>6.583101e-08</td>\n",
       "      <td>2.728436e-08</td>\n",
       "    </tr>\n",
       "    <tr>\n",
       "      <th>9998</th>\n",
       "      <td>5.757232e-02</td>\n",
       "      <td>8.837342e-01</td>\n",
       "      <td>0.006984</td>\n",
       "      <td>0.009757</td>\n",
       "      <td>0.011011</td>\n",
       "      <td>0.003464</td>\n",
       "      <td>0.016252</td>\n",
       "      <td>4.518481e-04</td>\n",
       "      <td>5.465144e-03</td>\n",
       "      <td>5.309378e-03</td>\n",
       "    </tr>\n",
       "    <tr>\n",
       "      <th>9999</th>\n",
       "      <td>1.212057e-06</td>\n",
       "      <td>1.047841e-08</td>\n",
       "      <td>0.000035</td>\n",
       "      <td>0.000012</td>\n",
       "      <td>0.005108</td>\n",
       "      <td>0.000182</td>\n",
       "      <td>0.000001</td>\n",
       "      <td>9.946608e-01</td>\n",
       "      <td>4.240506e-09</td>\n",
       "      <td>7.013347e-08</td>\n",
       "    </tr>\n",
       "  </tbody>\n",
       "</table>\n",
       "<p>10000 rows × 10 columns</p>\n",
       "</div>"
      ],
      "text/plain": [
       "                 0             1         2         3         4         5  \\\n",
       "0     1.085919e-04  1.776379e-04  0.000682  0.582963  0.000526  0.314984   \n",
       "1     6.605163e-03  2.580067e-01  0.000073  0.000268  0.000003  0.000003   \n",
       "2     1.644520e-02  1.034624e-02  0.000529  0.003659  0.000160  0.000023   \n",
       "3     9.325504e-01  4.512614e-04  0.011549  0.002303  0.002365  0.000132   \n",
       "4     7.867246e-06  1.356194e-05  0.004512  0.001868  0.001040  0.000052   \n",
       "...            ...           ...       ...       ...       ...       ...   \n",
       "9995  4.390072e-01  9.073644e-04  0.022465  0.112056  0.018362  0.016399   \n",
       "9996  2.422249e-06  2.352338e-07  0.000811  0.529121  0.001928  0.411737   \n",
       "9997  3.970541e-08  8.770414e-09  0.000059  0.004642  0.000003  0.995146   \n",
       "9998  5.757232e-02  8.837342e-01  0.006984  0.009757  0.011011  0.003464   \n",
       "9999  1.212057e-06  1.047841e-08  0.000035  0.000012  0.005108  0.000182   \n",
       "\n",
       "             6             7             8             9  \n",
       "0     0.099586  1.553694e-04  5.201016e-04  2.958412e-04  \n",
       "1     0.000027  2.000701e-06  7.347930e-01  2.179122e-04  \n",
       "2     0.000211  9.543000e-05  9.672819e-01  1.249581e-03  \n",
       "3     0.000329  9.004054e-05  4.985923e-02  3.700473e-04  \n",
       "4     0.992479  9.727671e-07  2.054046e-05  6.564836e-06  \n",
       "...        ...           ...           ...           ...  \n",
       "9995  0.006648  2.214676e-03  3.812161e-01  7.258818e-04  \n",
       "9996  0.056266  1.334896e-04  2.703421e-07  8.486892e-07  \n",
       "9997  0.000013  1.380672e-04  6.583101e-08  2.728436e-08  \n",
       "9998  0.016252  4.518481e-04  5.465144e-03  5.309378e-03  \n",
       "9999  0.000001  9.946608e-01  4.240506e-09  7.013347e-08  \n",
       "\n",
       "[10000 rows x 10 columns]"
      ]
     },
     "execution_count": 28,
     "metadata": {},
     "output_type": "execute_result"
    }
   ],
   "source": [
    "preds = pd.DataFrame(predictions)\n",
    "preds"
   ]
  },
  {
   "cell_type": "code",
   "execution_count": null,
   "metadata": {},
   "outputs": [],
   "source": []
  }
 ],
 "metadata": {
  "accelerator": "GPU",
  "colab": {
   "provenance": []
  },
  "kernelspec": {
   "display_name": "Python 3 (ipykernel)",
   "language": "python",
   "name": "python3"
  },
  "language_info": {
   "codemirror_mode": {
    "name": "ipython",
    "version": 3
   },
   "file_extension": ".py",
   "mimetype": "text/x-python",
   "name": "python",
   "nbconvert_exporter": "python",
   "pygments_lexer": "ipython3",
   "version": "3.10.9"
  }
 },
 "nbformat": 4,
 "nbformat_minor": 1
}
